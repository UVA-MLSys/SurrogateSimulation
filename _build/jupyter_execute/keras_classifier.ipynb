{
 "cells": [
  {
   "cell_type": "markdown",
   "metadata": {},
   "source": [
    "# Keras Classifier (Experimental)"
   ]
  },
  {
   "cell_type": "markdown",
   "metadata": {
    "id": "V5BjeuWylpUz"
   },
   "source": [
    "### Import Libraries"
   ]
  },
  {
   "cell_type": "code",
   "execution_count": 1,
   "metadata": {
    "id": "MtYs5jhAlfxE"
   },
   "outputs": [],
   "source": [
    "import os\n",
    "import torch\n",
    "import torch.nn as nn\n",
    "\n",
    "import pandas as pd\n",
    "import matplotlib.pyplot as plt\n",
    "\n"
   ]
  },
  {
   "cell_type": "code",
   "execution_count": 2,
   "metadata": {
    "colab": {
     "base_uri": "https://localhost:8080/",
     "height": 73
    },
    "id": "Vgyomw5tlf29",
    "outputId": "ee668722-8d74-47b5-bef5-7b5f395b3038"
   },
   "outputs": [
    {
     "ename": "ModuleNotFoundError",
     "evalue": "No module named 'google'",
     "output_type": "error",
     "traceback": [
      "\u001b[1;31m---------------------------------------------------------------------------\u001b[0m",
      "\u001b[1;31mModuleNotFoundError\u001b[0m                       Traceback (most recent call last)",
      "Input \u001b[1;32mIn [2]\u001b[0m, in \u001b[0;36m<cell line: 1>\u001b[1;34m()\u001b[0m\n\u001b[1;32m----> 1\u001b[0m \u001b[38;5;28;01mfrom\u001b[39;00m \u001b[38;5;21;01mgoogle\u001b[39;00m\u001b[38;5;21;01m.\u001b[39;00m\u001b[38;5;21;01mcolab\u001b[39;00m \u001b[38;5;28;01mimport\u001b[39;00m files\n\u001b[0;32m      2\u001b[0m uploaded \u001b[38;5;241m=\u001b[39m files\u001b[38;5;241m.\u001b[39mupload()\n\u001b[0;32m      4\u001b[0m csv_file \u001b[38;5;241m=\u001b[39m \u001b[38;5;124m\"\u001b[39m\u001b[38;5;124mFormatted_ETAS_Output.csv\u001b[39m\u001b[38;5;124m\"\u001b[39m\n",
      "\u001b[1;31mModuleNotFoundError\u001b[0m: No module named 'google'"
     ]
    }
   ],
   "source": [
    "from google.colab import files\n",
    "uploaded = files.upload()\n",
    "\n",
    "csv_file = \"Formatted_ETAS_Output.csv\"\n",
    "\n",
    "# Read the CSV file using Pandas\n",
    "df = pd.read_csv(csv_file, sep=',', lineterminator='\\n')\n",
    "\n",
    "# # Access the data in the DataFrame\n"
   ]
  },
  {
   "cell_type": "code",
   "execution_count": 4,
   "metadata": {
    "colab": {
     "base_uri": "https://localhost:8080/"
    },
    "id": "Gd7W0ryClf6M",
    "outputId": "067fd455-7fe7-495b-8c94-f53fdfecbbe0"
   },
   "outputs": [
    {
     "name": "stdout",
     "output_type": "stream",
     "text": [
      "           Date        Time          Year            X             Y  \\\n",
      "count     32001       32001  32001.000000  32001.00000  32001.000000   \n",
      "unique    19127       26803           NaN          NaN           NaN   \n",
      "top     4/26/64  0:31:11.00           NaN          NaN           NaN   \n",
      "freq         10           5           NaN          NaN           NaN   \n",
      "mean        NaN         NaN   1991.924790   -117.54676     34.810868   \n",
      "std         NaN         NaN     18.407271      2.11036      2.388448   \n",
      "min         NaN         NaN   1960.002196   -123.48700     29.080400   \n",
      "25%         NaN         NaN   1975.851679   -118.73330     33.343000   \n",
      "50%         NaN         NaN   1992.311728   -117.20600     34.587100   \n",
      "75%         NaN         NaN   2007.784510   -116.10520     36.820000   \n",
      "max         NaN         NaN   2023.487118   -113.24630     39.475100   \n",
      "\n",
      "           Magnitude           Z\\r  \n",
      "count   32001.000000  32001.000000  \n",
      "unique           NaN           NaN  \n",
      "top              NaN           NaN  \n",
      "freq             NaN           NaN  \n",
      "mean        3.452693      9.615045  \n",
      "std         0.460765      6.170866  \n",
      "min         3.000000      0.000000  \n",
      "25%         3.130000      4.236500  \n",
      "50%         3.310000      9.076000  \n",
      "75%         3.630000     15.139700  \n",
      "max         7.650000     20.000000  \n"
     ]
    }
   ],
   "source": [
    "summary_stats = df.describe(include=\"all\")\n",
    "print(summary_stats)"
   ]
  },
  {
   "cell_type": "markdown",
   "metadata": {},
   "source": [
    "### Data Table"
   ]
  },
  {
   "cell_type": "code",
   "execution_count": null,
   "metadata": {
    "colab": {
     "base_uri": "https://localhost:8080/",
     "height": 206
    },
    "id": "6rjyE18GmAMb",
    "outputId": "62204fdb-1de0-4a1c-f849-cd5276e59b02"
   },
   "outputs": [
    {
     "data": {
      "text/html": [
       "\n",
       "\n",
       "  <div id=\"df-7d86245c-fcfb-4ab0-b40e-82a4cd24335f\">\n",
       "    <div class=\"colab-df-container\">\n",
       "      <div>\n",
       "<style scoped>\n",
       "    .dataframe tbody tr th:only-of-type {\n",
       "        vertical-align: middle;\n",
       "    }\n",
       "\n",
       "    .dataframe tbody tr th {\n",
       "        vertical-align: top;\n",
       "    }\n",
       "\n",
       "    .dataframe thead th {\n",
       "        text-align: right;\n",
       "    }\n",
       "</style>\n",
       "<table border=\"1\" class=\"dataframe\">\n",
       "  <thead>\n",
       "    <tr style=\"text-align: right;\">\n",
       "      <th></th>\n",
       "      <th>X</th>\n",
       "      <th>Y</th>\n",
       "      <th>Magnitude</th>\n",
       "      <th>Z\\r</th>\n",
       "      <th>Day</th>\n",
       "      <th>Month</th>\n",
       "      <th>DayOfWeek</th>\n",
       "      <th>Quarter</th>\n",
       "      <th>Hour</th>\n",
       "      <th>Minute</th>\n",
       "      <th>Second</th>\n",
       "      <th>Millisecond</th>\n",
       "    </tr>\n",
       "  </thead>\n",
       "  <tbody>\n",
       "    <tr>\n",
       "      <th>0</th>\n",
       "      <td>-119.0502</td>\n",
       "      <td>33.9790</td>\n",
       "      <td>6.50</td>\n",
       "      <td>8.2474</td>\n",
       "      <td>31</td>\n",
       "      <td>12</td>\n",
       "      <td>3</td>\n",
       "      <td>4</td>\n",
       "      <td>0</td>\n",
       "      <td>3</td>\n",
       "      <td>9</td>\n",
       "      <td>0</td>\n",
       "    </tr>\n",
       "    <tr>\n",
       "      <th>1</th>\n",
       "      <td>-115.6222</td>\n",
       "      <td>33.0793</td>\n",
       "      <td>4.25</td>\n",
       "      <td>7.9322</td>\n",
       "      <td>2</td>\n",
       "      <td>1</td>\n",
       "      <td>5</td>\n",
       "      <td>1</td>\n",
       "      <td>0</td>\n",
       "      <td>8</td>\n",
       "      <td>49</td>\n",
       "      <td>0</td>\n",
       "    </tr>\n",
       "    <tr>\n",
       "      <th>2</th>\n",
       "      <td>-115.6323</td>\n",
       "      <td>33.1220</td>\n",
       "      <td>3.03</td>\n",
       "      <td>8.4015</td>\n",
       "      <td>2</td>\n",
       "      <td>1</td>\n",
       "      <td>5</td>\n",
       "      <td>1</td>\n",
       "      <td>0</td>\n",
       "      <td>10</td>\n",
       "      <td>31</td>\n",
       "      <td>0</td>\n",
       "    </tr>\n",
       "    <tr>\n",
       "      <th>3</th>\n",
       "      <td>-115.5851</td>\n",
       "      <td>33.0745</td>\n",
       "      <td>3.03</td>\n",
       "      <td>7.9678</td>\n",
       "      <td>2</td>\n",
       "      <td>1</td>\n",
       "      <td>5</td>\n",
       "      <td>1</td>\n",
       "      <td>0</td>\n",
       "      <td>10</td>\n",
       "      <td>32</td>\n",
       "      <td>0</td>\n",
       "    </tr>\n",
       "    <tr>\n",
       "      <th>4</th>\n",
       "      <td>-115.6256</td>\n",
       "      <td>33.0290</td>\n",
       "      <td>3.08</td>\n",
       "      <td>7.9737</td>\n",
       "      <td>2</td>\n",
       "      <td>1</td>\n",
       "      <td>5</td>\n",
       "      <td>1</td>\n",
       "      <td>0</td>\n",
       "      <td>11</td>\n",
       "      <td>7</td>\n",
       "      <td>0</td>\n",
       "    </tr>\n",
       "  </tbody>\n",
       "</table>\n",
       "</div>\n",
       "      <button class=\"colab-df-convert\" onclick=\"convertToInteractive('df-7d86245c-fcfb-4ab0-b40e-82a4cd24335f')\"\n",
       "              title=\"Convert this dataframe to an interactive table.\"\n",
       "              style=\"display:none;\">\n",
       "\n",
       "  <svg xmlns=\"http://www.w3.org/2000/svg\" height=\"24px\"viewBox=\"0 0 24 24\"\n",
       "       width=\"24px\">\n",
       "    <path d=\"M0 0h24v24H0V0z\" fill=\"none\"/>\n",
       "    <path d=\"M18.56 5.44l.94 2.06.94-2.06 2.06-.94-2.06-.94-.94-2.06-.94 2.06-2.06.94zm-11 1L8.5 8.5l.94-2.06 2.06-.94-2.06-.94L8.5 2.5l-.94 2.06-2.06.94zm10 10l.94 2.06.94-2.06 2.06-.94-2.06-.94-.94-2.06-.94 2.06-2.06.94z\"/><path d=\"M17.41 7.96l-1.37-1.37c-.4-.4-.92-.59-1.43-.59-.52 0-1.04.2-1.43.59L10.3 9.45l-7.72 7.72c-.78.78-.78 2.05 0 2.83L4 21.41c.39.39.9.59 1.41.59.51 0 1.02-.2 1.41-.59l7.78-7.78 2.81-2.81c.8-.78.8-2.07 0-2.86zM5.41 20L4 18.59l7.72-7.72 1.47 1.35L5.41 20z\"/>\n",
       "  </svg>\n",
       "      </button>\n",
       "\n",
       "\n",
       "\n",
       "    <div id=\"df-c7da0e6d-a5d8-424e-838e-a3b6e3adaea2\">\n",
       "      <button class=\"colab-df-quickchart\" onclick=\"quickchart('df-c7da0e6d-a5d8-424e-838e-a3b6e3adaea2')\"\n",
       "              title=\"Suggest charts.\"\n",
       "              style=\"display:none;\">\n",
       "\n",
       "<svg xmlns=\"http://www.w3.org/2000/svg\" height=\"24px\"viewBox=\"0 0 24 24\"\n",
       "     width=\"24px\">\n",
       "    <g>\n",
       "        <path d=\"M19 3H5c-1.1 0-2 .9-2 2v14c0 1.1.9 2 2 2h14c1.1 0 2-.9 2-2V5c0-1.1-.9-2-2-2zM9 17H7v-7h2v7zm4 0h-2V7h2v10zm4 0h-2v-4h2v4z\"/>\n",
       "    </g>\n",
       "</svg>\n",
       "      </button>\n",
       "    </div>\n",
       "\n",
       "<style>\n",
       "  .colab-df-quickchart {\n",
       "    background-color: #E8F0FE;\n",
       "    border: none;\n",
       "    border-radius: 50%;\n",
       "    cursor: pointer;\n",
       "    display: none;\n",
       "    fill: #1967D2;\n",
       "    height: 32px;\n",
       "    padding: 0 0 0 0;\n",
       "    width: 32px;\n",
       "  }\n",
       "\n",
       "  .colab-df-quickchart:hover {\n",
       "    background-color: #E2EBFA;\n",
       "    box-shadow: 0px 1px 2px rgba(60, 64, 67, 0.3), 0px 1px 3px 1px rgba(60, 64, 67, 0.15);\n",
       "    fill: #174EA6;\n",
       "  }\n",
       "\n",
       "  [theme=dark] .colab-df-quickchart {\n",
       "    background-color: #3B4455;\n",
       "    fill: #D2E3FC;\n",
       "  }\n",
       "\n",
       "  [theme=dark] .colab-df-quickchart:hover {\n",
       "    background-color: #434B5C;\n",
       "    box-shadow: 0px 1px 3px 1px rgba(0, 0, 0, 0.15);\n",
       "    filter: drop-shadow(0px 1px 2px rgba(0, 0, 0, 0.3));\n",
       "    fill: #FFFFFF;\n",
       "  }\n",
       "</style>\n",
       "\n",
       "    <script>\n",
       "      async function quickchart(key) {\n",
       "        const containerElement = document.querySelector('#' + key);\n",
       "        const charts = await google.colab.kernel.invokeFunction(\n",
       "            'suggestCharts', [key], {});\n",
       "      }\n",
       "    </script>\n",
       "\n",
       "      <script>\n",
       "\n",
       "function displayQuickchartButton(domScope) {\n",
       "  let quickchartButtonEl =\n",
       "    domScope.querySelector('#df-c7da0e6d-a5d8-424e-838e-a3b6e3adaea2 button.colab-df-quickchart');\n",
       "  quickchartButtonEl.style.display =\n",
       "    google.colab.kernel.accessAllowed ? 'block' : 'none';\n",
       "}\n",
       "\n",
       "        displayQuickchartButton(document);\n",
       "      </script>\n",
       "      <style>\n",
       "    .colab-df-container {\n",
       "      display:flex;\n",
       "      flex-wrap:wrap;\n",
       "      gap: 12px;\n",
       "    }\n",
       "\n",
       "    .colab-df-convert {\n",
       "      background-color: #E8F0FE;\n",
       "      border: none;\n",
       "      border-radius: 50%;\n",
       "      cursor: pointer;\n",
       "      display: none;\n",
       "      fill: #1967D2;\n",
       "      height: 32px;\n",
       "      padding: 0 0 0 0;\n",
       "      width: 32px;\n",
       "    }\n",
       "\n",
       "    .colab-df-convert:hover {\n",
       "      background-color: #E2EBFA;\n",
       "      box-shadow: 0px 1px 2px rgba(60, 64, 67, 0.3), 0px 1px 3px 1px rgba(60, 64, 67, 0.15);\n",
       "      fill: #174EA6;\n",
       "    }\n",
       "\n",
       "    [theme=dark] .colab-df-convert {\n",
       "      background-color: #3B4455;\n",
       "      fill: #D2E3FC;\n",
       "    }\n",
       "\n",
       "    [theme=dark] .colab-df-convert:hover {\n",
       "      background-color: #434B5C;\n",
       "      box-shadow: 0px 1px 3px 1px rgba(0, 0, 0, 0.15);\n",
       "      filter: drop-shadow(0px 1px 2px rgba(0, 0, 0, 0.3));\n",
       "      fill: #FFFFFF;\n",
       "    }\n",
       "  </style>\n",
       "\n",
       "      <script>\n",
       "        const buttonEl =\n",
       "          document.querySelector('#df-7d86245c-fcfb-4ab0-b40e-82a4cd24335f button.colab-df-convert');\n",
       "        buttonEl.style.display =\n",
       "          google.colab.kernel.accessAllowed ? 'block' : 'none';\n",
       "\n",
       "        async function convertToInteractive(key) {\n",
       "          const element = document.querySelector('#df-7d86245c-fcfb-4ab0-b40e-82a4cd24335f');\n",
       "          const dataTable =\n",
       "            await google.colab.kernel.invokeFunction('convertToInteractive',\n",
       "                                                     [key], {});\n",
       "          if (!dataTable) return;\n",
       "\n",
       "          const docLinkHtml = 'Like what you see? Visit the ' +\n",
       "            '<a target=\"_blank\" href=https://colab.research.google.com/notebooks/data_table.ipynb>data table notebook</a>'\n",
       "            + ' to learn more about interactive tables.';\n",
       "          element.innerHTML = '';\n",
       "          dataTable['output_type'] = 'display_data';\n",
       "          await google.colab.output.renderOutput(dataTable, element);\n",
       "          const docLink = document.createElement('div');\n",
       "          docLink.innerHTML = docLinkHtml;\n",
       "          element.appendChild(docLink);\n",
       "        }\n",
       "      </script>\n",
       "    </div>\n",
       "  </div>\n"
      ],
      "text/plain": [
       "          X        Y  Magnitude     Z\\r  Day  Month  DayOfWeek  Quarter  Hour  \\\n",
       "0 -119.0502  33.9790       6.50  8.2474   31     12          3        4     0   \n",
       "1 -115.6222  33.0793       4.25  7.9322    2      1          5        1     0   \n",
       "2 -115.6323  33.1220       3.03  8.4015    2      1          5        1     0   \n",
       "3 -115.5851  33.0745       3.03  7.9678    2      1          5        1     0   \n",
       "4 -115.6256  33.0290       3.08  7.9737    2      1          5        1     0   \n",
       "\n",
       "   Minute  Second  Millisecond  \n",
       "0       3       9            0  \n",
       "1       8      49            0  \n",
       "2      10      31            0  \n",
       "3      10      32            0  \n",
       "4      11       7            0  "
      ]
     },
     "execution_count": 5,
     "metadata": {},
     "output_type": "execute_result"
    }
   ],
   "source": [
    "new_df = df.copy()\n",
    "\n",
    "# Convert \"Date\" column to datetime in the new DataFrame\n",
    "new_df[\"Date\"] = pd.to_datetime(new_df[\"Date\"], errors=\"coerce\", format=\"%m/%d/%y\")\n",
    "\n",
    "# Adjust two-digit year values to four-digit format in the new DataFrame\n",
    "new_df.loc[new_df[\"Date\"].dt.year > pd.Timestamp.now().year, \"Date\"] -= pd.DateOffset(years=100)\n",
    "\n",
    "# Extract components from the \"Date\" column in the new DataFrame\n",
    "new_df[\"Day\"] = new_df[\"Date\"].dt.day\n",
    "new_df[\"Month\"] = new_df[\"Date\"].dt.month\n",
    "new_df[\"Year\"] = new_df[\"Date\"].dt.year\n",
    "new_df[\"DayOfWeek\"] = new_df[\"Date\"].dt.dayofweek\n",
    "new_df[\"Quarter\"] = new_df[\"Date\"].dt.quarter\n",
    "\n",
    "# Convert \"Time\" column to datetime in the new DataFrame\n",
    "new_df[\"Time\"] = pd.to_datetime(new_df[\"Time\"], format=\"%H:%M:%S.%f\")\n",
    "\n",
    "# Extract time components in the new DataFrame\n",
    "new_df[\"Hour\"] = new_df[\"Time\"].dt.hour\n",
    "new_df[\"Minute\"] = new_df[\"Time\"].dt.minute\n",
    "new_df[\"Second\"] = new_df[\"Time\"].dt.second\n",
    "new_df[\"Millisecond\"] = new_df[\"Time\"].dt.microsecond // 1000\n",
    "\n",
    "# Drop the original \"Time\" column from the new DataFrame\n",
    "new_df = new_df.drop(\"Time\", axis=1)\n",
    "\n",
    "# Drop the \"Date\" column from the new DataFrame\n",
    "new_df = new_df.drop(\"Date\", axis=1)\n",
    "new_df = new_df.drop(\"Year\", axis=1)\n",
    "\n",
    "new_df.head()"
   ]
  },
  {
   "cell_type": "markdown",
   "metadata": {},
   "source": [
    "### Model Training And Preprocessing"
   ]
  },
  {
   "cell_type": "code",
   "execution_count": null,
   "metadata": {
    "colab": {
     "base_uri": "https://localhost:8080/"
    },
    "id": "IqHWNfRsmFT9",
    "outputId": "5482dbda-ab63-4376-9ee2-1bdad8a509d4"
   },
   "outputs": [
    {
     "name": "stdout",
     "output_type": "stream",
     "text": [
      "Scaled X_train:\n",
      "[[ 1.8470883  -1.55972662 -0.77871094 ...  1.12688298 -0.54222518\n",
      "   0.        ]\n",
      " [ 0.30505242  0.70135846 -0.52148207 ...  1.01160055 -0.54222518\n",
      "   0.        ]\n",
      " [-0.73255927  1.11489704  1.01761294 ...  0.89631811 -1.4696426\n",
      "   0.        ]\n",
      " ...\n",
      " [-0.40360552 -0.5749714   1.65289841 ... -0.89055958  1.54446401\n",
      "   0.        ]\n",
      " [ 0.72015396  0.9207512   1.45023324 ... -0.37178863  0.84890095\n",
      "   0.        ]\n",
      " [-1.95810392  1.04719511  1.58157829 ...  1.70329514  1.02279171\n",
      "   0.        ]]\n",
      "y_train:\n",
      "19364    3.02\n",
      "18995    3.00\n",
      "12854    3.02\n",
      "25371    3.86\n",
      "21813    3.38\n",
      "         ... \n",
      "29802    3.24\n",
      "5390     3.05\n",
      "860      3.14\n",
      "15795    3.29\n",
      "23654    5.13\n",
      "Name: Magnitude, Length: 21440, dtype: float64\n",
      "Scaled X_test:\n",
      "[[ 1.04958158 -1.03921315  1.44085029 ...  0.95395933  1.19668248\n",
      "   0.        ]\n",
      " [-0.04205018  0.70303321  0.13277997 ... -1.3516893  -0.426298\n",
      "   0.        ]\n",
      " [-0.2884101   1.43117429 -1.3567102  ... -0.48707107  1.25464607\n",
      "   0.        ]\n",
      " ...\n",
      " [ 1.93243052 -2.19638427 -0.13838558 ...  0.89631811  1.48650042\n",
      "   0.        ]\n",
      " [ 0.55430289 -0.29721348 -1.30263266 ...  0.14698231 -1.06389748\n",
      "   0.        ]\n",
      " [-0.68109805  0.54690429 -0.711507   ...  1.64565392  1.25464607\n",
      "   0.        ]]\n",
      "y_test:\n",
      "23100    3.02\n",
      "17362    3.26\n",
      "8993     3.26\n",
      "19566    3.00\n",
      "3798     3.79\n",
      "         ... \n",
      "19688    3.13\n",
      "17060    4.21\n",
      "14320    3.48\n",
      "13544    3.01\n",
      "28133    4.08\n",
      "Name: Magnitude, Length: 10561, dtype: float64\n"
     ]
    }
   ],
   "source": [
    "from sklearn.model_selection import train_test_split\n",
    "from sklearn.preprocessing import StandardScaler\n",
    "\n",
    "X = new_df.drop(\"Magnitude\", axis=1)  # Features\n",
    "y = new_df[\"Magnitude\"]  # Target variable\n",
    "\n",
    "# Create a StandardScaler object\n",
    "scaler = StandardScaler()\n",
    "\n",
    "# Scale the features\n",
    "X_scaled = scaler.fit_transform(X)\n",
    "\n",
    "# Split the scaled data into training and testing sets\n",
    "X_train, X_test, y_train, y_test = train_test_split(X_scaled, y, test_size=0.33, random_state=42)\n",
    "\n",
    "# Print the data to verify the changes\n",
    "print(\"Scaled X_train:\")\n",
    "print(X_train)\n",
    "\n",
    "print(\"y_train:\")\n",
    "print(y_train)\n",
    "\n",
    "print(\"Scaled X_test:\")\n",
    "print(X_test)\n",
    "\n",
    "print(\"y_test:\")\n",
    "print(y_test)\n"
   ]
  },
  {
   "cell_type": "markdown",
   "metadata": {
    "id": "_-E5p4T5VJwS"
   },
   "source": [
    "### Keras Classifier"
   ]
  },
  {
   "cell_type": "code",
   "execution_count": null,
   "metadata": {
    "id": "M3tH0CMMQTWL"
   },
   "outputs": [],
   "source": [
    "from keras.models import Sequential\n",
    "from keras.layers import Dense\n",
    "\n",
    "def create_model(neurons, activation, optimizer, loss):\n",
    "    model = Sequential()\n",
    "    model.add(Dense(neurons, activation=activation, input_shape=(11,)))\n",
    "    model.add(Dense(neurons, activation=activation))\n",
    "    model.add(Dense(2, activation='softmax'))\n",
    "\n",
    "    model.compile(optimizer=optimizer, loss=loss, metrics=['accuracy'])\n",
    "\n",
    "    return model"
   ]
  },
  {
   "cell_type": "code",
   "execution_count": null,
   "metadata": {
    "colab": {
     "base_uri": "https://localhost:8080/"
    },
    "id": "1z0KYM7UQS5W",
    "outputId": "6740ba98-9910-4f24-df79-15ca7b8a7c5f"
   },
   "outputs": [
    {
     "name": "stderr",
     "output_type": "stream",
     "text": [
      "<ipython-input-12-e86ab04a3ebc>:3: DeprecationWarning: KerasClassifier is deprecated, use Sci-Keras (https://github.com/adriangb/scikeras) instead. See https://www.adriangb.com/scikeras/stable/migration.html for help migrating.\n",
      "  model = KerasClassifier(build_fn=create_model, verbose=0)\n"
     ]
    }
   ],
   "source": [
    "from keras.wrappers.scikit_learn import KerasClassifier\n",
    "\n",
    "model = KerasClassifier(build_fn=create_model, verbose=0)\n",
    "\n",
    "neurons = [16]\n",
    "batch_size = [10]\n",
    "epochs = [10]\n",
    "\n",
    "# activation = ['relu', 'tanh', 'sigmoid', 'hard_sigmoid', 'linear', 'exponential']\n",
    "activation = ['sigmoid', 'relu']\n",
    "# optimizer = ['SGD', 'RMSprop', 'Adagrad', 'Adadelta', 'Adam', 'Adamax', 'Nadam']\n",
    "\n",
    "optimizer = ['SGD', 'Adadelta']\n",
    "loss = ['squared_hinge']\n",
    "\n",
    "param_grid = dict(neurons=neurons, batch_size=batch_size, epochs=epochs, activation=activation, optimizer=optimizer, loss=loss)"
   ]
  },
  {
   "cell_type": "code",
   "execution_count": null,
   "metadata": {
    "colab": {
     "base_uri": "https://localhost:8080/"
    },
    "id": "9MBVWc3vQSwt",
    "outputId": "507ab8f0-62cf-45e3-dfc2-539d1174eaac"
   },
   "outputs": [
    {
     "name": "stdout",
     "output_type": "stream",
     "text": [
      "Best: 0.022528 using {'activation': 'relu', 'batch_size': 10, 'epochs': 10, 'loss': 'squared_hinge', 'neurons': 16, 'optimizer': 'SGD'}\n",
      "0.022015 (0.001222) with: {'activation': 'sigmoid', 'batch_size': 10, 'epochs': 10, 'loss': 'squared_hinge', 'neurons': 16, 'optimizer': 'SGD'}\n",
      "0.021922 (0.002101) with: {'activation': 'sigmoid', 'batch_size': 10, 'epochs': 10, 'loss': 'squared_hinge', 'neurons': 16, 'optimizer': 'Adadelta'}\n",
      "0.022528 (0.001316) with: {'activation': 'relu', 'batch_size': 10, 'epochs': 10, 'loss': 'squared_hinge', 'neurons': 16, 'optimizer': 'SGD'}\n",
      "0.022108 (0.002114) with: {'activation': 'relu', 'batch_size': 10, 'epochs': 10, 'loss': 'squared_hinge', 'neurons': 16, 'optimizer': 'Adadelta'}\n"
     ]
    }
   ],
   "source": [
    "from sklearn.model_selection import GridSearchCV\n",
    "\n",
    "grid = GridSearchCV(estimator=model, param_grid=param_grid, n_jobs=-1)\n",
    "grid_result = grid.fit(X_train, y_train)\n",
    "\n",
    "print(\"Best: %f using %s\" % (grid_result.best_score_, grid_result.best_params_))\n",
    "means = grid_result.cv_results_['mean_test_score']\n",
    "stds = grid_result.cv_results_['std_test_score']\n",
    "params = grid_result.cv_results_['params']\n",
    "for mean, stdev, param in zip(means, stds, params):\n",
    "    print(\"%f (%f) with: %r\" % (mean, stdev, param))"
   ]
  }
 ],
 "metadata": {
  "colab": {
   "provenance": []
  },
  "kernelspec": {
   "display_name": "Python 3",
   "name": "python3"
  },
  "language_info": {
   "codemirror_mode": {
    "name": "ipython",
    "version": 3
   },
   "file_extension": ".py",
   "mimetype": "text/x-python",
   "name": "python",
   "nbconvert_exporter": "python",
   "pygments_lexer": "ipython3",
   "version": "3.10.5"
  }
 },
 "nbformat": 4,
 "nbformat_minor": 0
}